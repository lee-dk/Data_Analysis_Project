{
 "cells": [
  {
   "cell_type": "markdown",
   "metadata": {},
   "source": [
    "## 변수선택법"
   ]
  },
  {
   "cell_type": "markdown",
   "metadata": {},
   "source": [
    "### 1. 전진선택법(Forward Selection)\n",
    "### 2. 후진소거법(Backward Elimination)\n",
    "### 3. 단계적선택법(Stepwise Selection)"
   ]
  },
  {
   "cell_type": "code",
   "execution_count": 76,
   "metadata": {},
   "outputs": [],
   "source": [
    "import pandas as pd\n",
    "import numpy as np\n",
    "import statsmodels.api as sm\n",
    "from sklearn.model_selection import train_test_split"
   ]
  },
  {
   "cell_type": "code",
   "execution_count": 77,
   "metadata": {},
   "outputs": [],
   "source": [
    "# 1. 지하철역개수+버스정거장개수\n",
    "# 2. 교통편, 인구 밀도 제거"
   ]
  },
  {
   "cell_type": "code",
   "execution_count": 78,
   "metadata": {},
   "outputs": [
    {
     "data": {
      "text/html": [
       "<div>\n",
       "<style scoped>\n",
       "    .dataframe tbody tr th:only-of-type {\n",
       "        vertical-align: middle;\n",
       "    }\n",
       "\n",
       "    .dataframe tbody tr th {\n",
       "        vertical-align: top;\n",
       "    }\n",
       "\n",
       "    .dataframe thead th {\n",
       "        text-align: right;\n",
       "    }\n",
       "</style>\n",
       "<table border=\"1\" class=\"dataframe\">\n",
       "  <thead>\n",
       "    <tr style=\"text-align: right;\">\n",
       "      <th></th>\n",
       "      <th>경사도</th>\n",
       "      <th>자전거도로길이</th>\n",
       "      <th>총거치대수</th>\n",
       "      <th>총대여수</th>\n",
       "      <th>인구</th>\n",
       "      <th>면적</th>\n",
       "      <th>지하철역개수</th>\n",
       "      <th>버스정거장개수</th>\n",
       "      <th>접근성</th>\n",
       "    </tr>\n",
       "    <tr>\n",
       "      <th>동</th>\n",
       "      <th></th>\n",
       "      <th></th>\n",
       "      <th></th>\n",
       "      <th></th>\n",
       "      <th></th>\n",
       "      <th></th>\n",
       "      <th></th>\n",
       "      <th></th>\n",
       "      <th></th>\n",
       "    </tr>\n",
       "  </thead>\n",
       "  <tbody>\n",
       "    <tr>\n",
       "      <th>가락1동</th>\n",
       "      <td>-15.5247</td>\n",
       "      <td>7150</td>\n",
       "      <td>115.0</td>\n",
       "      <td>74652.0</td>\n",
       "      <td>27716</td>\n",
       "      <td>1.34</td>\n",
       "      <td>1</td>\n",
       "      <td>13</td>\n",
       "      <td>12.686567</td>\n",
       "    </tr>\n",
       "    <tr>\n",
       "      <th>가락2동</th>\n",
       "      <td>-39.3115</td>\n",
       "      <td>4704</td>\n",
       "      <td>45.0</td>\n",
       "      <td>33583.0</td>\n",
       "      <td>33920</td>\n",
       "      <td>0.96</td>\n",
       "      <td>0</td>\n",
       "      <td>23</td>\n",
       "      <td>23.958333</td>\n",
       "    </tr>\n",
       "    <tr>\n",
       "      <th>가락본동</th>\n",
       "      <td>-30.7845</td>\n",
       "      <td>6932</td>\n",
       "      <td>55.0</td>\n",
       "      <td>25487.0</td>\n",
       "      <td>27876</td>\n",
       "      <td>1.13</td>\n",
       "      <td>2</td>\n",
       "      <td>25</td>\n",
       "      <td>29.203540</td>\n",
       "    </tr>\n",
       "    <tr>\n",
       "      <th>가리봉동</th>\n",
       "      <td>-21.8088</td>\n",
       "      <td>0</td>\n",
       "      <td>10.0</td>\n",
       "      <td>5621.0</td>\n",
       "      <td>15250</td>\n",
       "      <td>0.40</td>\n",
       "      <td>0</td>\n",
       "      <td>9</td>\n",
       "      <td>22.500000</td>\n",
       "    </tr>\n",
       "    <tr>\n",
       "      <th>가산동</th>\n",
       "      <td>-12.9490</td>\n",
       "      <td>2108</td>\n",
       "      <td>258.0</td>\n",
       "      <td>160033.0</td>\n",
       "      <td>24455</td>\n",
       "      <td>2.52</td>\n",
       "      <td>2</td>\n",
       "      <td>111</td>\n",
       "      <td>47.222222</td>\n",
       "    </tr>\n",
       "  </tbody>\n",
       "</table>\n",
       "</div>"
      ],
      "text/plain": [
       "          경사도  자전거도로길이  총거치대수      총대여수     인구    면적  지하철역개수  버스정거장개수  \\\n",
       "동                                                                       \n",
       "가락1동 -15.5247     7150  115.0   74652.0  27716  1.34       1       13   \n",
       "가락2동 -39.3115     4704   45.0   33583.0  33920  0.96       0       23   \n",
       "가락본동 -30.7845     6932   55.0   25487.0  27876  1.13       2       25   \n",
       "가리봉동 -21.8088        0   10.0    5621.0  15250  0.40       0        9   \n",
       "가산동  -12.9490     2108  258.0  160033.0  24455  2.52       2      111   \n",
       "\n",
       "            접근성  \n",
       "동                \n",
       "가락1동  12.686567  \n",
       "가락2동  23.958333  \n",
       "가락본동  29.203540  \n",
       "가리봉동  22.500000  \n",
       "가산동   47.222222  "
      ]
     },
     "execution_count": 78,
     "metadata": {},
     "output_type": "execute_result"
    }
   ],
   "source": [
    "last = pd.read_excel(\"data/last_자전거이용비율수정.xlsx\")\n",
    "last.fillna(0, inplace=True) # 결측값 0으로 치환 \n",
    "last = last.drop(last.columns[[0, 6, 9, 13, 14]], axis=1) # unnamed:0 칼럼 지우기\n",
    "last = last.set_index('동')\n",
    "last.head()"
   ]
  },
  {
   "cell_type": "code",
   "execution_count": 79,
   "metadata": {},
   "outputs": [
    {
     "name": "stdout",
     "output_type": "stream",
     "text": [
      "(296, 8) (128, 8) (296,) (128,)\n"
     ]
    }
   ],
   "source": [
    "feature_columns = last.columns.difference([\"총대여수\"]) # Target column \n",
    "\n",
    "X = last[feature_columns]\n",
    "y = last.총대여수\n",
    "\n",
    "train_x, test_x, train_y, test_y = train_test_split(X,y, train_size = 0.7, test_size = 0.3)\n",
    "\n",
    "print(train_x.shape, test_x.shape, train_y.shape, test_y.shape)"
   ]
  },
  {
   "cell_type": "code",
   "execution_count": 80,
   "metadata": {},
   "outputs": [
    {
     "data": {
      "text/html": [
       "<table class=\"simpletable\">\n",
       "<caption>OLS Regression Results</caption>\n",
       "<tr>\n",
       "  <th>Dep. Variable:</th>          <td>총대여수</td>       <th>  R-squared:         </th> <td>   0.758</td>\n",
       "</tr>\n",
       "<tr>\n",
       "  <th>Model:</th>                   <td>OLS</td>       <th>  Adj. R-squared:    </th> <td>   0.751</td>\n",
       "</tr>\n",
       "<tr>\n",
       "  <th>Method:</th>             <td>Least Squares</td>  <th>  F-statistic:       </th> <td>   112.5</td>\n",
       "</tr>\n",
       "<tr>\n",
       "  <th>Date:</th>             <td>Fri, 13 Nov 2020</td> <th>  Prob (F-statistic):</th> <td>7.45e-84</td>\n",
       "</tr>\n",
       "<tr>\n",
       "  <th>Time:</th>                 <td>16:19:11</td>     <th>  Log-Likelihood:    </th> <td> -3462.0</td>\n",
       "</tr>\n",
       "<tr>\n",
       "  <th>No. Observations:</th>      <td>   296</td>      <th>  AIC:               </th> <td>   6942.</td>\n",
       "</tr>\n",
       "<tr>\n",
       "  <th>Df Residuals:</th>          <td>   287</td>      <th>  BIC:               </th> <td>   6975.</td>\n",
       "</tr>\n",
       "<tr>\n",
       "  <th>Df Model:</th>              <td>     8</td>      <th>                     </th>     <td> </td>   \n",
       "</tr>\n",
       "<tr>\n",
       "  <th>Covariance Type:</th>      <td>nonrobust</td>    <th>                     </th>     <td> </td>   \n",
       "</tr>\n",
       "</table>\n",
       "<table class=\"simpletable\">\n",
       "<tr>\n",
       "     <td></td>        <th>coef</th>     <th>std err</th>      <th>t</th>      <th>P>|t|</th>  <th>[0.025</th>    <th>0.975]</th>  \n",
       "</tr>\n",
       "<tr>\n",
       "  <th>const</th>   <td> 2033.3103</td> <td> 7325.441</td> <td>    0.278</td> <td> 0.782</td> <td>-1.24e+04</td> <td> 1.65e+04</td>\n",
       "</tr>\n",
       "<tr>\n",
       "  <th>경사도</th>     <td>  170.9326</td> <td>   60.916</td> <td>    2.806</td> <td> 0.005</td> <td>   51.034</td> <td>  290.831</td>\n",
       "</tr>\n",
       "<tr>\n",
       "  <th>면적</th>      <td> -834.6709</td> <td> 1998.553</td> <td>   -0.418</td> <td> 0.677</td> <td>-4768.351</td> <td> 3099.009</td>\n",
       "</tr>\n",
       "<tr>\n",
       "  <th>버스정거장개수</th> <td>  213.5724</td> <td>  214.471</td> <td>    0.996</td> <td> 0.320</td> <td> -208.563</td> <td>  635.708</td>\n",
       "</tr>\n",
       "<tr>\n",
       "  <th>인구</th>      <td>    0.0368</td> <td>    0.248</td> <td>    0.148</td> <td> 0.882</td> <td>   -0.452</td> <td>    0.526</td>\n",
       "</tr>\n",
       "<tr>\n",
       "  <th>자전거도로길이</th> <td>    1.3871</td> <td>    0.535</td> <td>    2.593</td> <td> 0.010</td> <td>    0.334</td> <td>    2.440</td>\n",
       "</tr>\n",
       "<tr>\n",
       "  <th>접근성</th>     <td>   39.5512</td> <td>  178.817</td> <td>    0.221</td> <td> 0.825</td> <td> -312.407</td> <td>  391.510</td>\n",
       "</tr>\n",
       "<tr>\n",
       "  <th>지하철역개수</th>  <td> 9111.7372</td> <td> 2563.839</td> <td>    3.554</td> <td> 0.000</td> <td> 4065.425</td> <td> 1.42e+04</td>\n",
       "</tr>\n",
       "<tr>\n",
       "  <th>총거치대수</th>   <td>  542.9219</td> <td>   29.577</td> <td>   18.356</td> <td> 0.000</td> <td>  484.707</td> <td>  601.137</td>\n",
       "</tr>\n",
       "</table>\n",
       "<table class=\"simpletable\">\n",
       "<tr>\n",
       "  <th>Omnibus:</th>       <td>148.160</td> <th>  Durbin-Watson:     </th> <td>   1.999</td>\n",
       "</tr>\n",
       "<tr>\n",
       "  <th>Prob(Omnibus):</th> <td> 0.000</td>  <th>  Jarque-Bera (JB):  </th> <td>1776.457</td>\n",
       "</tr>\n",
       "<tr>\n",
       "  <th>Skew:</th>          <td> 1.722</td>  <th>  Prob(JB):          </th> <td>    0.00</td>\n",
       "</tr>\n",
       "<tr>\n",
       "  <th>Kurtosis:</th>      <td>14.497</td>  <th>  Cond. No.          </th> <td>1.07e+05</td>\n",
       "</tr>\n",
       "</table><br/><br/>Notes:<br/>[1] Standard Errors assume that the covariance matrix of the errors is correctly specified.<br/>[2] The condition number is large, 1.07e+05. This might indicate that there are<br/>strong multicollinearity or other numerical problems."
      ],
      "text/plain": [
       "<class 'statsmodels.iolib.summary.Summary'>\n",
       "\"\"\"\n",
       "                            OLS Regression Results                            \n",
       "==============================================================================\n",
       "Dep. Variable:                   총대여수   R-squared:                       0.758\n",
       "Model:                            OLS   Adj. R-squared:                  0.751\n",
       "Method:                 Least Squares   F-statistic:                     112.5\n",
       "Date:                Fri, 13 Nov 2020   Prob (F-statistic):           7.45e-84\n",
       "Time:                        16:19:11   Log-Likelihood:                -3462.0\n",
       "No. Observations:                 296   AIC:                             6942.\n",
       "Df Residuals:                     287   BIC:                             6975.\n",
       "Df Model:                           8                                         \n",
       "Covariance Type:            nonrobust                                         \n",
       "==============================================================================\n",
       "                 coef    std err          t      P>|t|      [0.025      0.975]\n",
       "------------------------------------------------------------------------------\n",
       "const       2033.3103   7325.441      0.278      0.782   -1.24e+04    1.65e+04\n",
       "경사도          170.9326     60.916      2.806      0.005      51.034     290.831\n",
       "면적          -834.6709   1998.553     -0.418      0.677   -4768.351    3099.009\n",
       "버스정거장개수      213.5724    214.471      0.996      0.320    -208.563     635.708\n",
       "인구             0.0368      0.248      0.148      0.882      -0.452       0.526\n",
       "자전거도로길이        1.3871      0.535      2.593      0.010       0.334       2.440\n",
       "접근성           39.5512    178.817      0.221      0.825    -312.407     391.510\n",
       "지하철역개수      9111.7372   2563.839      3.554      0.000    4065.425    1.42e+04\n",
       "총거치대수        542.9219     29.577     18.356      0.000     484.707     601.137\n",
       "==============================================================================\n",
       "Omnibus:                      148.160   Durbin-Watson:                   1.999\n",
       "Prob(Omnibus):                  0.000   Jarque-Bera (JB):             1776.457\n",
       "Skew:                           1.722   Prob(JB):                         0.00\n",
       "Kurtosis:                      14.497   Cond. No.                     1.07e+05\n",
       "==============================================================================\n",
       "\n",
       "Notes:\n",
       "[1] Standard Errors assume that the covariance matrix of the errors is correctly specified.\n",
       "[2] The condition number is large, 1.07e+05. This might indicate that there are\n",
       "strong multicollinearity or other numerical problems.\n",
       "\"\"\""
      ]
     },
     "execution_count": 80,
     "metadata": {},
     "output_type": "execute_result"
    }
   ],
   "source": [
    "# train & 회귀모델 적합, 모든 변수를 때려넣었다.\n",
    "\n",
    "# 회귀분석을 위해 for b0, 상수항 추가\n",
    "train_x_ = sm.add_constant(train_x, has_constant = \"add\")\n",
    "\n",
    "full_model = sm.OLS(train_y, train_x_)\n",
    "fitted_full_model = full_model.fit()\n",
    "\n",
    "fitted_full_model.summary()"
   ]
  },
  {
   "cell_type": "code",
   "execution_count": 81,
   "metadata": {},
   "outputs": [
    {
     "data": {
      "text/html": [
       "<div>\n",
       "<style scoped>\n",
       "    .dataframe tbody tr th:only-of-type {\n",
       "        vertical-align: middle;\n",
       "    }\n",
       "\n",
       "    .dataframe tbody tr th {\n",
       "        vertical-align: top;\n",
       "    }\n",
       "\n",
       "    .dataframe thead th {\n",
       "        text-align: right;\n",
       "    }\n",
       "</style>\n",
       "<table border=\"1\" class=\"dataframe\">\n",
       "  <thead>\n",
       "    <tr style=\"text-align: right;\">\n",
       "      <th></th>\n",
       "      <th>VIF Factor</th>\n",
       "      <th>features</th>\n",
       "    </tr>\n",
       "  </thead>\n",
       "  <tbody>\n",
       "    <tr>\n",
       "      <th>0</th>\n",
       "      <td>18.240964</td>\n",
       "      <td>const</td>\n",
       "    </tr>\n",
       "    <tr>\n",
       "      <th>1</th>\n",
       "      <td>1.667034</td>\n",
       "      <td>경사도</td>\n",
       "    </tr>\n",
       "    <tr>\n",
       "      <th>2</th>\n",
       "      <td>3.346519</td>\n",
       "      <td>면적</td>\n",
       "    </tr>\n",
       "    <tr>\n",
       "      <th>3</th>\n",
       "      <td>3.117495</td>\n",
       "      <td>버스정거장개수</td>\n",
       "    </tr>\n",
       "    <tr>\n",
       "      <th>4</th>\n",
       "      <td>1.489504</td>\n",
       "      <td>인구</td>\n",
       "    </tr>\n",
       "    <tr>\n",
       "      <th>5</th>\n",
       "      <td>1.774239</td>\n",
       "      <td>자전거도로길이</td>\n",
       "    </tr>\n",
       "    <tr>\n",
       "      <th>6</th>\n",
       "      <td>2.307868</td>\n",
       "      <td>접근성</td>\n",
       "    </tr>\n",
       "    <tr>\n",
       "      <th>7</th>\n",
       "      <td>1.378320</td>\n",
       "      <td>지하철역개수</td>\n",
       "    </tr>\n",
       "    <tr>\n",
       "      <th>8</th>\n",
       "      <td>1.825185</td>\n",
       "      <td>총거치대수</td>\n",
       "    </tr>\n",
       "  </tbody>\n",
       "</table>\n",
       "</div>"
      ],
      "text/plain": [
       "   VIF Factor features\n",
       "0   18.240964    const\n",
       "1    1.667034      경사도\n",
       "2    3.346519       면적\n",
       "3    3.117495  버스정거장개수\n",
       "4    1.489504       인구\n",
       "5    1.774239  자전거도로길이\n",
       "6    2.307868      접근성\n",
       "7    1.378320   지하철역개수\n",
       "8    1.825185    총거치대수"
      ]
     },
     "execution_count": 81,
     "metadata": {},
     "output_type": "execute_result"
    }
   ],
   "source": [
    "# VIF를 통한 다중공선성 확인 --> 교통편, 버스정거장개수, 지하철역개수 inf\n",
    "\n",
    "from statsmodels.stats.outliers_influence import variance_inflation_factor\n",
    "\n",
    "vif = pd.DataFrame()\n",
    "vif[\"VIF Factor\"] = [variance_inflation_factor(train_x_.values, i) for i in range(train_x_.shape[1])]\n",
    "vif[\"features\"] = train_x_.columns\n",
    "vif"
   ]
  },
  {
   "cell_type": "code",
   "execution_count": 106,
   "metadata": {},
   "outputs": [],
   "source": [
    "import pandas as pd\n",
    "import numpy as np\n",
    "import matplotlib.pyplot as plt\n",
    "from matplotlib import font_manager, rc\n",
    "import seaborn as sns"
   ]
  },
  {
   "cell_type": "code",
   "execution_count": 108,
   "metadata": {},
   "outputs": [
    {
     "data": {
      "image/png": "[encoded data removed]",
      "text/plain": [
       "<Figure size 432x288 with 1 Axes>"
      ]
     },
     "metadata": {
      "needs_background": "light"
     },
     "output_type": "display_data"
    }
   ],
   "source": [
    "# 학습데이터의 잔차 확인\n",
    "\n",
    "res = fitted_full_model.resid\n",
    "\n",
    "# q-q plot을 통한 잔차의 정규분포 확인\n",
    "fig = sm.qqplot(res, fit = True,line = '45')\n",
    "plt.savefig(\"data/resid.png\")"
   ]
  },
  {
   "cell_type": "code",
   "execution_count": 83,
   "metadata": {},
   "outputs": [
    {
     "name": "stdout",
     "output_type": "stream",
     "text": [
      "1427913020.236452\n"
     ]
    }
   ],
   "source": [
    "# MSE 구하기\n",
    "from sklearn.metrics import mean_squared_error\n",
    "\n",
    "x1 = last[['경사도', '자전거도로길이', '총거치대수', '인구', '면적', '지하철역개수', '버스정거장개수', '접근성']]\n",
    "x1_ = sm.add_constant(x1, has_constant = \"add\")\n",
    "target = last[['총대여수']]\n",
    "\n",
    "X = x1_\n",
    "y = target\n",
    "\n",
    "train_x, test_x, train_y, test_y = train_test_split(X,y, train_size = 0.7, test_size = 0.3, random_state = 1)\n",
    "\n",
    "# 학습데이터와 검증데이터를 7:3으로 분리한다.\n",
    "# random_state고정을 통해 그때마다 똑같은 값을 분류하도록 한다.\n",
    "# print(train_x.shape, test_x.shape, train_y.shape, test_y.shape)\n",
    "\n",
    "fit_train1 = sm.OLS(train_y,train_x)\n",
    "fit_train1 = fit_train1.fit()\n",
    "\n",
    "mse1 = mean_squared_error(y_true = test_y[\"총대여수\"], y_pred = fit_train1.predict(test_x))\n",
    "\n",
    "print(mse1)"
   ]
  },
  {
   "cell_type": "markdown",
   "metadata": {},
   "source": [
    "### 전진선택법(step=1)"
   ]
  },
  {
   "cell_type": "code",
   "execution_count": 84,
   "metadata": {},
   "outputs": [],
   "source": [
    "import time\n",
    "import itertools \n",
    "\n",
    "def processSubset(X,y,feature_set):\n",
    "    model = sm.OLS(y,X[list(feature_set)]) # Modeling\n",
    "    regr = model.fit() # model fitting\n",
    "    AIC = regr.aic # model's AIC\n",
    "    return {\"model\" : regr, \"AIC\" : AIC}\n",
    "\n",
    "### 전진선택법 모델\n",
    "\n",
    "def forward(X,y,predictors):\n",
    "\t\n",
    "    # predictor - 현재 선택되어있는 변수\n",
    "    # 데이터 변수들이 미리정의된 predictors에 있는지 없는지 확인 및 분류\n",
    "    \n",
    "    remaining_predictors = [p for p in X.columns.difference(['const']) if p not in predictors]\n",
    "    tic = time.time()\n",
    "    results = []\n",
    "    for p in remaining_predictors :\n",
    "    \tresults.append(processSubset(X=X,y=y,feature_set=predictors+[p]+['const']))\n",
    "    \n",
    "    # 데이터프레임으로 변환\n",
    "    models = pd.DataFrame(results)\n",
    "    \n",
    "    # AIC가 가장 낮은 것을 선택\n",
    "    best_model = models.loc[models['AIC'].argmin()]\n",
    "    toc = time.time()\n",
    "    print(\"Processed \",models.shape[0], \"models on\", len(predictors)+1, \"predictors in\", (toc-tic))\n",
    "    print(\"Selected predictors:\",best_model[\"model\"].model.exog_names,\"AIC: \",best_model[0])\n",
    "    return best_model\n",
    "    \n",
    "### 전진선택법 모델\n",
    "\n",
    "def forward_model(X, y):\n",
    "\n",
    "    Fmodels = pd.DataFrame(columns=[\"AIC\",\"model\"])\n",
    "    tic = time.time()\n",
    "    \n",
    "    # 미리 정의된 데이터 변수\n",
    "    predictors = []\n",
    "    \n",
    "    # 변수 1~10개 : 0-9 -> 1-10\n",
    "    for i in range(1,len(X.columns.difference(['const']))+1):\n",
    "        Forward_result = forward(X=X,y=y,predictors=predictors)\n",
    "        if i > 1:\n",
    "            if Forward_result[\"AIC\"] > Fmodel_before:\n",
    "                break\n",
    "        Fmodels.loc[i] = Forward_result\n",
    "        predictors = Fmodels.loc[i][\"model\"].model.exog_names\n",
    "        Fmodel_before = Fmodels.loc[i][\"AIC\"]\n",
    "        predictors = [k for k in predictors if k != 'const']\n",
    "        \n",
    "    toc = time.time()\n",
    "    print(\"Total elapsed time:\",(toc-tic), \"seconds.\")\n",
    "    \n",
    "    return (Fmodels['model'][len(Fmodels['model'])])"
   ]
  },
  {
   "cell_type": "code",
   "execution_count": 85,
   "metadata": {},
   "outputs": [
    {
     "name": "stdout",
     "output_type": "stream",
     "text": [
      "Processed  8 models on 1 predictors in 0.018992185592651367\n",
      "Selected predictors: ['총거치대수', 'const'] AIC:  <statsmodels.regression.linear_model.RegressionResultsWrapper object at 0x00000180E618D788>\n",
      "Processed  7 models on 2 predictors in 0.017001867294311523\n",
      "Selected predictors: ['총거치대수', '자전거도로길이', 'const'] AIC:  <statsmodels.regression.linear_model.RegressionResultsWrapper object at 0x00000180E618D0C8>\n",
      "Processed  6 models on 3 predictors in 0.018018484115600586\n",
      "Selected predictors: ['총거치대수', '자전거도로길이', '경사도', 'const'] AIC:  <statsmodels.regression.linear_model.RegressionResultsWrapper object at 0x00000180E619ED88>\n",
      "Processed  5 models on 4 predictors in 0.01500082015991211\n",
      "Selected predictors: ['총거치대수', '자전거도로길이', '경사도', '지하철역개수', 'const'] AIC:  <statsmodels.regression.linear_model.RegressionResultsWrapper object at 0x00000180E61BED88>\n",
      "Processed  4 models on 5 predictors in 0.013001680374145508\n",
      "Selected predictors: ['총거치대수', '자전거도로길이', '경사도', '지하철역개수', '인구', 'const'] AIC:  <statsmodels.regression.linear_model.RegressionResultsWrapper object at 0x00000180E61BE2C8>\n",
      "Processed  3 models on 6 predictors in 0.011002540588378906\n",
      "Selected predictors: ['총거치대수', '자전거도로길이', '경사도', '지하철역개수', '인구', '면적', 'const'] AIC:  <statsmodels.regression.linear_model.RegressionResultsWrapper object at 0x00000180E61931C8>\n",
      "Processed  2 models on 7 predictors in 0.00600433349609375\n",
      "Selected predictors: ['총거치대수', '자전거도로길이', '경사도', '지하철역개수', '인구', '면적', '버스정거장개수', 'const'] AIC:  <statsmodels.regression.linear_model.RegressionResultsWrapper object at 0x00000180E60DA248>\n",
      "Total elapsed time: 0.1419973373413086 seconds.\n"
     ]
    }
   ],
   "source": [
    "Forward_best_model = forward_model(X=train_x, y=train_y)"
   ]
  },
  {
   "cell_type": "code",
   "execution_count": 86,
   "metadata": {},
   "outputs": [
    {
     "data": {
      "text/plain": [
       "6913.718339206506"
      ]
     },
     "execution_count": 86,
     "metadata": {},
     "output_type": "execute_result"
    }
   ],
   "source": [
    "Forward_best_model.aic"
   ]
  },
  {
   "cell_type": "code",
   "execution_count": 87,
   "metadata": {},
   "outputs": [
    {
     "data": {
      "text/html": [
       "<table class=\"simpletable\">\n",
       "<caption>OLS Regression Results</caption>\n",
       "<tr>\n",
       "  <th>Dep. Variable:</th>          <td>총대여수</td>       <th>  R-squared:         </th> <td>   0.561</td>\n",
       "</tr>\n",
       "<tr>\n",
       "  <th>Model:</th>                   <td>OLS</td>       <th>  Adj. R-squared:    </th> <td>   0.552</td>\n",
       "</tr>\n",
       "<tr>\n",
       "  <th>Method:</th>             <td>Least Squares</td>  <th>  F-statistic:       </th> <td>   61.48</td>\n",
       "</tr>\n",
       "<tr>\n",
       "  <th>Date:</th>             <td>Fri, 13 Nov 2020</td> <th>  Prob (F-statistic):</th> <td>8.11e-49</td>\n",
       "</tr>\n",
       "<tr>\n",
       "  <th>Time:</th>                 <td>16:19:12</td>     <th>  Log-Likelihood:    </th> <td> -3449.9</td>\n",
       "</tr>\n",
       "<tr>\n",
       "  <th>No. Observations:</th>      <td>   296</td>      <th>  AIC:               </th> <td>   6914.</td>\n",
       "</tr>\n",
       "<tr>\n",
       "  <th>Df Residuals:</th>          <td>   289</td>      <th>  BIC:               </th> <td>   6940.</td>\n",
       "</tr>\n",
       "<tr>\n",
       "  <th>Df Model:</th>              <td>     6</td>      <th>                     </th>     <td> </td>   \n",
       "</tr>\n",
       "<tr>\n",
       "  <th>Covariance Type:</th>      <td>nonrobust</td>    <th>                     </th>     <td> </td>   \n",
       "</tr>\n",
       "</table>\n",
       "<table class=\"simpletable\">\n",
       "<tr>\n",
       "     <td></td>        <th>coef</th>     <th>std err</th>      <th>t</th>      <th>P>|t|</th>  <th>[0.025</th>    <th>0.975]</th>  \n",
       "</tr>\n",
       "<tr>\n",
       "  <th>총거치대수</th>   <td>  455.3823</td> <td>   36.762</td> <td>   12.387</td> <td> 0.000</td> <td>  383.027</td> <td>  527.738</td>\n",
       "</tr>\n",
       "<tr>\n",
       "  <th>자전거도로길이</th> <td>    2.0781</td> <td>    0.511</td> <td>    4.068</td> <td> 0.000</td> <td>    1.073</td> <td>    3.083</td>\n",
       "</tr>\n",
       "<tr>\n",
       "  <th>경사도</th>     <td>  101.7303</td> <td>   54.095</td> <td>    1.881</td> <td> 0.061</td> <td>   -4.739</td> <td>  208.200</td>\n",
       "</tr>\n",
       "<tr>\n",
       "  <th>지하철역개수</th>  <td> 5422.2581</td> <td> 2207.340</td> <td>    2.456</td> <td> 0.015</td> <td> 1077.758</td> <td> 9766.759</td>\n",
       "</tr>\n",
       "<tr>\n",
       "  <th>인구</th>      <td>    0.3028</td> <td>    0.186</td> <td>    1.631</td> <td> 0.104</td> <td>   -0.063</td> <td>    0.668</td>\n",
       "</tr>\n",
       "<tr>\n",
       "  <th>면적</th>      <td>-2191.8776</td> <td> 1394.530</td> <td>   -1.572</td> <td> 0.117</td> <td>-4936.601</td> <td>  552.846</td>\n",
       "</tr>\n",
       "<tr>\n",
       "  <th>const</th>   <td> 5972.8569</td> <td> 5310.894</td> <td>    1.125</td> <td> 0.262</td> <td>-4480.079</td> <td> 1.64e+04</td>\n",
       "</tr>\n",
       "</table>\n",
       "<table class=\"simpletable\">\n",
       "<tr>\n",
       "  <th>Omnibus:</th>       <td>94.878</td> <th>  Durbin-Watson:     </th> <td>   2.035</td> \n",
       "</tr>\n",
       "<tr>\n",
       "  <th>Prob(Omnibus):</th> <td> 0.000</td> <th>  Jarque-Bera (JB):  </th> <td> 947.015</td> \n",
       "</tr>\n",
       "<tr>\n",
       "  <th>Skew:</th>          <td> 0.984</td> <th>  Prob(JB):          </th> <td>2.28e-206</td>\n",
       "</tr>\n",
       "<tr>\n",
       "  <th>Kurtosis:</th>      <td>11.539</td> <th>  Cond. No.          </th> <td>8.35e+04</td> \n",
       "</tr>\n",
       "</table><br/><br/>Notes:<br/>[1] Standard Errors assume that the covariance matrix of the errors is correctly specified.<br/>[2] The condition number is large, 8.35e+04. This might indicate that there are<br/>strong multicollinearity or other numerical problems."
      ],
      "text/plain": [
       "<class 'statsmodels.iolib.summary.Summary'>\n",
       "\"\"\"\n",
       "                            OLS Regression Results                            \n",
       "==============================================================================\n",
       "Dep. Variable:                   총대여수   R-squared:                       0.561\n",
       "Model:                            OLS   Adj. R-squared:                  0.552\n",
       "Method:                 Least Squares   F-statistic:                     61.48\n",
       "Date:                Fri, 13 Nov 2020   Prob (F-statistic):           8.11e-49\n",
       "Time:                        16:19:12   Log-Likelihood:                -3449.9\n",
       "No. Observations:                 296   AIC:                             6914.\n",
       "Df Residuals:                     289   BIC:                             6940.\n",
       "Df Model:                           6                                         \n",
       "Covariance Type:            nonrobust                                         \n",
       "==============================================================================\n",
       "                 coef    std err          t      P>|t|      [0.025      0.975]\n",
       "------------------------------------------------------------------------------\n",
       "총거치대수        455.3823     36.762     12.387      0.000     383.027     527.738\n",
       "자전거도로길이        2.0781      0.511      4.068      0.000       1.073       3.083\n",
       "경사도          101.7303     54.095      1.881      0.061      -4.739     208.200\n",
       "지하철역개수      5422.2581   2207.340      2.456      0.015    1077.758    9766.759\n",
       "인구             0.3028      0.186      1.631      0.104      -0.063       0.668\n",
       "면적         -2191.8776   1394.530     -1.572      0.117   -4936.601     552.846\n",
       "const       5972.8569   5310.894      1.125      0.262   -4480.079    1.64e+04\n",
       "==============================================================================\n",
       "Omnibus:                       94.878   Durbin-Watson:                   2.035\n",
       "Prob(Omnibus):                  0.000   Jarque-Bera (JB):              947.015\n",
       "Skew:                           0.984   Prob(JB):                    2.28e-206\n",
       "Kurtosis:                      11.539   Cond. No.                     8.35e+04\n",
       "==============================================================================\n",
       "\n",
       "Notes:\n",
       "[1] Standard Errors assume that the covariance matrix of the errors is correctly specified.\n",
       "[2] The condition number is large, 8.35e+04. This might indicate that there are\n",
       "strong multicollinearity or other numerical problems.\n",
       "\"\"\""
      ]
     },
     "execution_count": 87,
     "metadata": {},
     "output_type": "execute_result"
    }
   ],
   "source": [
    "Forward_best_model.summary()"
   ]
  },
  {
   "cell_type": "code",
   "execution_count": 88,
   "metadata": {},
   "outputs": [],
   "source": [
    "# last1 = pd.read_excel(\"data/last_자전거이용비율수정.xlsx\")\n",
    "# last1.fillna(0, inplace=True) # 결측값 0으로 치환 \n",
    "# last1 = last1.drop(last1.columns[[0, 6, 9]], axis=1) # unnamed:0 칼럼 지우기\n",
    "# last1 = last1.set_index('동')\n",
    "\n",
    "# feature_columns = last1.columns.difference([\"총대여수\"]) # Target column \n",
    "\n",
    "# X = last1[feature_columns]\n",
    "# y = last1.총대여수\n",
    "\n",
    "# train_x, test_x, train_y, test_y = train_test_split(X,y, train_size = 0.7, test_size = 0.3)\n",
    "\n",
    "# print(train_x.shape, test_x.shape, train_y.shape, test_y.shape)"
   ]
  },
  {
   "cell_type": "code",
   "execution_count": 89,
   "metadata": {},
   "outputs": [],
   "source": [
    "# # train & 회귀모델 적합, 모든 변수를 때려넣었다.\n",
    "\n",
    "# # 회귀분석을 위해 for b0, 상수항 추가\n",
    "# train_x_ = sm.add_constant(train_x, has_constant = \"add\")\n",
    "\n",
    "# full_model = sm.OLS(train_y, train_x_)\n",
    "# fitted_full_model = full_model.fit()\n",
    "\n",
    "# fitted_full_model.summary()"
   ]
  },
  {
   "cell_type": "markdown",
   "metadata": {},
   "source": [
    "### 후진소거법(step=1)"
   ]
  },
  {
   "cell_type": "code",
   "execution_count": 90,
   "metadata": {},
   "outputs": [],
   "source": [
    "# import time\n",
    "# import itertools \n",
    "\n",
    "# def backward(X,y,predictors):\n",
    "#     tic = time.time()\n",
    "#     results=[]\n",
    "#     #데이터 변수들이 미리정의된 predictors 조합확인\n",
    "#     for combo in itertools.combinations(predictors, len(predictors)-1):\n",
    "#         results.append(processSubset(X,y,list(combo)+['const']))\n",
    "#     models = pd.DataFrame(results)\n",
    "#     #가장 낮은 AIC를 가진 모델을 선택\n",
    "#     bestModel = models.loc[models['AIC'].argmin()]\n",
    "#     toc = time.time()\n",
    "#     print(\"Processed\",models.shape[0],\"models on\",len(predictors)-1,\n",
    "#           \"predictors in\",(toc - tic))\n",
    "#     print(\"Selected predictors :\",bestModel['model'].model.exog_names,\n",
    "#           ' AIC:',bestModel[0])\n",
    "#     return bestModel\n",
    " \n",
    "# def backword_model(X,y):\n",
    "#     BModels = pd.DataFrame(columns=[\"AIC\",\"model\"])\n",
    "#     tic = time.time()\n",
    "#     #미리 정의된 데이터 변수\n",
    "#     predictors = x.columns.difference(['const'])\n",
    "#     BmodelBefore = processSubset(X,y,predictors)['AIC']\n",
    "#     while(len(predictors)>1):\n",
    "#         backwardResult=backward(trainX,trainY,predictors)\n",
    "#         if backwardResult['AIC'] > BmodelBefore:\n",
    "#             break\n",
    "#         BModels.loc[len(predictors)-1] = backwardResult\n",
    "#         predictors = BModels.loc[len(predictors)-1][\"model\"].model.exog_names\n",
    "#         BmodelBefore = backwardResult[\"AIC\"]\n",
    "#         predictors = [ k for k in predictors if k != 'const']\n",
    " \n",
    "#     toc = time.time()\n",
    "#     print(\"Total elapsed time :\",(toc - tic), \"seconds.\")\n",
    "#     return (BModels[\"model\"].dropna().iloc[0])"
   ]
  },
  {
   "cell_type": "code",
   "execution_count": 91,
   "metadata": {},
   "outputs": [],
   "source": [
    "# Backward_best_model = backward_model(X=train_x, y= train_y)"
   ]
  },
  {
   "cell_type": "code",
   "execution_count": 92,
   "metadata": {},
   "outputs": [],
   "source": [
    "# Backward_best_model.aic"
   ]
  },
  {
   "cell_type": "code",
   "execution_count": 93,
   "metadata": {},
   "outputs": [],
   "source": [
    "# Backward_best_model.summary()"
   ]
  },
  {
   "cell_type": "markdown",
   "metadata": {},
   "source": [
    "### 단계적선택법"
   ]
  },
  {
   "cell_type": "code",
   "execution_count": 94,
   "metadata": {},
   "outputs": [],
   "source": [
    "def Stepwise_model(X,y):\n",
    "    stepModels = pd.DataFrame(columns=[\"AIC\",\"model\"])\n",
    "    tic = time.time()\n",
    "    predictors = []\n",
    "    SmodelBefore = processSubset(X,y,predictors+['const'])['AIC']\n",
    "    #변수 1~10개 : 0~9 -> 1~10\n",
    "    for i in range(1, len(X.columns.difference(['const']))+1):\n",
    "        forwardResult = forward(X,y,predictors)\n",
    "        print(\"forward\")\n",
    "        stepModels.loc[i] = forwardResult\n",
    "        predictors = stepModels.loc[i][\"model\"].model.exog_names\n",
    "        predictors = [k for k in predictors if k != 'const']\n",
    "        backwordResult = backward(X,y,predictors)\n",
    "        if backwordResult['AIC'] < forwardResult['AIC']:\n",
    "            stepModels.loc[i] = backwordResult\n",
    "            predictors=stepModels.loc[i][\"model\"].model.exog_names\n",
    "            smodelBefore=stepModels.loc[i][\"AIC\"]\n",
    "            predictors=[k for k in predictors if k != 'const']\n",
    "            print('backward')\n",
    "        if stepModels.loc[i][\"AIC\"] > SmodelBefore:\n",
    "            break\n",
    "        else:\n",
    "            smodelBefore = stepModels.loc[i][\"AIC\"]\n",
    "    toc=time.time()\n",
    "    print(\"Total elapsed time : \", (toc - tic), \"seconds\")\n",
    "    return (stepModels['model'][len(stepModels['model'])])"
   ]
  },
  {
   "cell_type": "code",
   "execution_count": 95,
   "metadata": {},
   "outputs": [
    {
     "name": "stdout",
     "output_type": "stream",
     "text": [
      "Processed  8 models on 1 predictors in 0.01799798011779785\n",
      "Selected predictors: ['총거치대수', 'const'] AIC:  <statsmodels.regression.linear_model.RegressionResultsWrapper object at 0x00000180E613CE48>\n",
      "forward\n",
      "Processed 1 models on 0 predictors in 0.003997802734375\n",
      "Selected predictors : ['const']  AIC: <statsmodels.regression.linear_model.RegressionResultsWrapper object at 0x00000180E6130EC8>\n",
      "Processed  7 models on 2 predictors in 0.023000001907348633\n",
      "Selected predictors: ['총거치대수', '자전거도로길이', 'const'] AIC:  <statsmodels.regression.linear_model.RegressionResultsWrapper object at 0x00000180E6121C08>\n",
      "forward\n",
      "Processed 2 models on 1 predictors in 0.008003711700439453\n",
      "Selected predictors : ['총거치대수', 'const']  AIC: <statsmodels.regression.linear_model.RegressionResultsWrapper object at 0x00000180E613C9C8>\n",
      "Processed  6 models on 3 predictors in 0.015999317169189453\n",
      "Selected predictors: ['총거치대수', '자전거도로길이', '경사도', 'const'] AIC:  <statsmodels.regression.linear_model.RegressionResultsWrapper object at 0x00000180E613C788>\n",
      "forward\n",
      "Processed 3 models on 2 predictors in 0.011000394821166992\n",
      "Selected predictors : ['총거치대수', '자전거도로길이', 'const']  AIC: <statsmodels.regression.linear_model.RegressionResultsWrapper object at 0x00000180E6110608>\n",
      "Processed  5 models on 4 predictors in 0.01603102684020996\n",
      "Selected predictors: ['총거치대수', '자전거도로길이', '경사도', '지하철역개수', 'const'] AIC:  <statsmodels.regression.linear_model.RegressionResultsWrapper object at 0x00000180E6195408>\n",
      "forward\n",
      "Processed 4 models on 3 predictors in 0.010000944137573242\n",
      "Selected predictors : ['총거치대수', '자전거도로길이', '경사도', 'const']  AIC: <statsmodels.regression.linear_model.RegressionResultsWrapper object at 0x00000180E6110D08>\n",
      "Processed  4 models on 5 predictors in 0.01100015640258789\n",
      "Selected predictors: ['총거치대수', '자전거도로길이', '경사도', '지하철역개수', '인구', 'const'] AIC:  <statsmodels.regression.linear_model.RegressionResultsWrapper object at 0x00000180E60D63C8>\n",
      "forward\n",
      "Processed 5 models on 4 predictors in 0.012998819351196289\n",
      "Selected predictors : ['총거치대수', '자전거도로길이', '경사도', '지하철역개수', 'const']  AIC: <statsmodels.regression.linear_model.RegressionResultsWrapper object at 0x00000180E60D6C88>\n",
      "Processed  3 models on 6 predictors in 0.00900125503540039\n",
      "Selected predictors: ['총거치대수', '자전거도로길이', '경사도', '지하철역개수', '인구', '면적', 'const'] AIC:  <statsmodels.regression.linear_model.RegressionResultsWrapper object at 0x00000180E60FE248>\n",
      "forward\n",
      "Processed 6 models on 5 predictors in 0.015997648239135742\n",
      "Selected predictors : ['총거치대수', '자전거도로길이', '경사도', '지하철역개수', '인구', 'const']  AIC: <statsmodels.regression.linear_model.RegressionResultsWrapper object at 0x00000180E6128848>\n",
      "Processed  2 models on 7 predictors in 0.008002281188964844\n",
      "Selected predictors: ['총거치대수', '자전거도로길이', '경사도', '지하철역개수', '인구', '면적', '버스정거장개수', 'const'] AIC:  <statsmodels.regression.linear_model.RegressionResultsWrapper object at 0x00000180E60F5A88>\n",
      "forward\n",
      "Processed 7 models on 6 predictors in 0.01999950408935547\n",
      "Selected predictors : ['총거치대수', '자전거도로길이', '경사도', '지하철역개수', '인구', '면적', 'const']  AIC: <statsmodels.regression.linear_model.RegressionResultsWrapper object at 0x00000180E60F5488>\n",
      "backward\n",
      "Processed  2 models on 7 predictors in 0.0059986114501953125\n",
      "Selected predictors: ['총거치대수', '자전거도로길이', '경사도', '지하철역개수', '인구', '면적', '버스정거장개수', 'const'] AIC:  <statsmodels.regression.linear_model.RegressionResultsWrapper object at 0x00000180E60B2848>\n",
      "forward\n",
      "Processed 7 models on 6 predictors in 0.015001058578491211\n",
      "Selected predictors : ['총거치대수', '자전거도로길이', '경사도', '지하철역개수', '인구', '면적', 'const']  AIC: <statsmodels.regression.linear_model.RegressionResultsWrapper object at 0x00000180E60F5A88>\n",
      "backward\n",
      "Total elapsed time :  0.28199338912963867 seconds\n"
     ]
    }
   ],
   "source": [
    "Stepwise_best_model = Stepwise_model(X=train_x, y= train_y)"
   ]
  },
  {
   "cell_type": "code",
   "execution_count": 96,
   "metadata": {},
   "outputs": [
    {
     "data": {
      "text/plain": [
       "6913.718339206506"
      ]
     },
     "execution_count": 96,
     "metadata": {},
     "output_type": "execute_result"
    }
   ],
   "source": [
    "Stepwise_best_model.aic"
   ]
  },
  {
   "cell_type": "code",
   "execution_count": 97,
   "metadata": {},
   "outputs": [
    {
     "data": {
      "text/html": [
       "<table class=\"simpletable\">\n",
       "<caption>OLS Regression Results</caption>\n",
       "<tr>\n",
       "  <th>Dep. Variable:</th>          <td>총대여수</td>       <th>  R-squared:         </th> <td>   0.561</td>\n",
       "</tr>\n",
       "<tr>\n",
       "  <th>Model:</th>                   <td>OLS</td>       <th>  Adj. R-squared:    </th> <td>   0.552</td>\n",
       "</tr>\n",
       "<tr>\n",
       "  <th>Method:</th>             <td>Least Squares</td>  <th>  F-statistic:       </th> <td>   61.48</td>\n",
       "</tr>\n",
       "<tr>\n",
       "  <th>Date:</th>             <td>Fri, 13 Nov 2020</td> <th>  Prob (F-statistic):</th> <td>8.11e-49</td>\n",
       "</tr>\n",
       "<tr>\n",
       "  <th>Time:</th>                 <td>16:19:15</td>     <th>  Log-Likelihood:    </th> <td> -3449.9</td>\n",
       "</tr>\n",
       "<tr>\n",
       "  <th>No. Observations:</th>      <td>   296</td>      <th>  AIC:               </th> <td>   6914.</td>\n",
       "</tr>\n",
       "<tr>\n",
       "  <th>Df Residuals:</th>          <td>   289</td>      <th>  BIC:               </th> <td>   6940.</td>\n",
       "</tr>\n",
       "<tr>\n",
       "  <th>Df Model:</th>              <td>     6</td>      <th>                     </th>     <td> </td>   \n",
       "</tr>\n",
       "<tr>\n",
       "  <th>Covariance Type:</th>      <td>nonrobust</td>    <th>                     </th>     <td> </td>   \n",
       "</tr>\n",
       "</table>\n",
       "<table class=\"simpletable\">\n",
       "<tr>\n",
       "     <td></td>        <th>coef</th>     <th>std err</th>      <th>t</th>      <th>P>|t|</th>  <th>[0.025</th>    <th>0.975]</th>  \n",
       "</tr>\n",
       "<tr>\n",
       "  <th>총거치대수</th>   <td>  455.3823</td> <td>   36.762</td> <td>   12.387</td> <td> 0.000</td> <td>  383.027</td> <td>  527.738</td>\n",
       "</tr>\n",
       "<tr>\n",
       "  <th>자전거도로길이</th> <td>    2.0781</td> <td>    0.511</td> <td>    4.068</td> <td> 0.000</td> <td>    1.073</td> <td>    3.083</td>\n",
       "</tr>\n",
       "<tr>\n",
       "  <th>경사도</th>     <td>  101.7303</td> <td>   54.095</td> <td>    1.881</td> <td> 0.061</td> <td>   -4.739</td> <td>  208.200</td>\n",
       "</tr>\n",
       "<tr>\n",
       "  <th>지하철역개수</th>  <td> 5422.2581</td> <td> 2207.340</td> <td>    2.456</td> <td> 0.015</td> <td> 1077.758</td> <td> 9766.759</td>\n",
       "</tr>\n",
       "<tr>\n",
       "  <th>인구</th>      <td>    0.3028</td> <td>    0.186</td> <td>    1.631</td> <td> 0.104</td> <td>   -0.063</td> <td>    0.668</td>\n",
       "</tr>\n",
       "<tr>\n",
       "  <th>면적</th>      <td>-2191.8776</td> <td> 1394.530</td> <td>   -1.572</td> <td> 0.117</td> <td>-4936.601</td> <td>  552.846</td>\n",
       "</tr>\n",
       "<tr>\n",
       "  <th>const</th>   <td> 5972.8569</td> <td> 5310.894</td> <td>    1.125</td> <td> 0.262</td> <td>-4480.079</td> <td> 1.64e+04</td>\n",
       "</tr>\n",
       "</table>\n",
       "<table class=\"simpletable\">\n",
       "<tr>\n",
       "  <th>Omnibus:</th>       <td>94.878</td> <th>  Durbin-Watson:     </th> <td>   2.035</td> \n",
       "</tr>\n",
       "<tr>\n",
       "  <th>Prob(Omnibus):</th> <td> 0.000</td> <th>  Jarque-Bera (JB):  </th> <td> 947.015</td> \n",
       "</tr>\n",
       "<tr>\n",
       "  <th>Skew:</th>          <td> 0.984</td> <th>  Prob(JB):          </th> <td>2.28e-206</td>\n",
       "</tr>\n",
       "<tr>\n",
       "  <th>Kurtosis:</th>      <td>11.539</td> <th>  Cond. No.          </th> <td>8.35e+04</td> \n",
       "</tr>\n",
       "</table><br/><br/>Notes:<br/>[1] Standard Errors assume that the covariance matrix of the errors is correctly specified.<br/>[2] The condition number is large, 8.35e+04. This might indicate that there are<br/>strong multicollinearity or other numerical problems."
      ],
      "text/plain": [
       "<class 'statsmodels.iolib.summary.Summary'>\n",
       "\"\"\"\n",
       "                            OLS Regression Results                            \n",
       "==============================================================================\n",
       "Dep. Variable:                   총대여수   R-squared:                       0.561\n",
       "Model:                            OLS   Adj. R-squared:                  0.552\n",
       "Method:                 Least Squares   F-statistic:                     61.48\n",
       "Date:                Fri, 13 Nov 2020   Prob (F-statistic):           8.11e-49\n",
       "Time:                        16:19:15   Log-Likelihood:                -3449.9\n",
       "No. Observations:                 296   AIC:                             6914.\n",
       "Df Residuals:                     289   BIC:                             6940.\n",
       "Df Model:                           6                                         \n",
       "Covariance Type:            nonrobust                                         \n",
       "==============================================================================\n",
       "                 coef    std err          t      P>|t|      [0.025      0.975]\n",
       "------------------------------------------------------------------------------\n",
       "총거치대수        455.3823     36.762     12.387      0.000     383.027     527.738\n",
       "자전거도로길이        2.0781      0.511      4.068      0.000       1.073       3.083\n",
       "경사도          101.7303     54.095      1.881      0.061      -4.739     208.200\n",
       "지하철역개수      5422.2581   2207.340      2.456      0.015    1077.758    9766.759\n",
       "인구             0.3028      0.186      1.631      0.104      -0.063       0.668\n",
       "면적         -2191.8776   1394.530     -1.572      0.117   -4936.601     552.846\n",
       "const       5972.8569   5310.894      1.125      0.262   -4480.079    1.64e+04\n",
       "==============================================================================\n",
       "Omnibus:                       94.878   Durbin-Watson:                   2.035\n",
       "Prob(Omnibus):                  0.000   Jarque-Bera (JB):              947.015\n",
       "Skew:                           0.984   Prob(JB):                    2.28e-206\n",
       "Kurtosis:                      11.539   Cond. No.                     8.35e+04\n",
       "==============================================================================\n",
       "\n",
       "Notes:\n",
       "[1] Standard Errors assume that the covariance matrix of the errors is correctly specified.\n",
       "[2] The condition number is large, 8.35e+04. This might indicate that there are\n",
       "strong multicollinearity or other numerical problems.\n",
       "\"\"\""
      ]
     },
     "execution_count": 97,
     "metadata": {},
     "output_type": "execute_result"
    }
   ],
   "source": [
    "Stepwise_best_model.summary()"
   ]
  },
  {
   "cell_type": "code",
   "execution_count": 98,
   "metadata": {},
   "outputs": [
    {
     "name": "stdout",
     "output_type": "stream",
     "text": [
      "(7,) (7,)\n"
     ]
    }
   ],
   "source": [
    "# 성능평가\n",
    "# number of params\n",
    "print(Forward_best_model.params.shape, Stepwise_best_model.params.shape)"
   ]
  },
  {
   "cell_type": "code",
   "execution_count": 99,
   "metadata": {},
   "outputs": [],
   "source": [
    "# 모델에 의해 예측된/추정된 값 = test_y\n",
    "\n",
    "pred_y_forward = Forward_best_model.predict(test_x[Forward_best_model.model.exog_names])\n",
    "pred_y_stepwise = Stepwise_best_model.predict(test_x[Stepwise_best_model.model.exog_names])"
   ]
  },
  {
   "cell_type": "code",
   "execution_count": 104,
   "metadata": {},
   "outputs": [
    {
     "name": "stdout",
     "output_type": "stream",
     "text": [
      "          FORWARD     STEPWISE\n",
      "MSE   1.43916e+09  1.43916e+09\n",
      "RMSE      37936.2      37936.2\n",
      "MAE       21361.2      21361.2\n"
     ]
    }
   ],
   "source": [
    "# MSE, RMSE, MAE, MAPE 4가지 지표를 통해 예측성능을 확인할 예정\n",
    "\n",
    "perf_mat = pd.DataFrame(columns=[\"FORWARD\", \"STEPWISE\"],index =['MSE', 'RMSE','MAE'])\n",
    "\n",
    "# MAPE의 함수\n",
    "def mean_absolute_percentage_error(y_true, y_pred):\n",
    "    y_true, y_pred = np.array(y_true), np.array(y_pred)\n",
    "    return np.mean(np.abs((y_true - y_pred) / y_true)) * 100\n",
    "from sklearn import metrics  # 나머지는 sklearn에서 활용\n",
    "\n",
    "# 성능지표\n",
    "perf_mat.loc['MSE']['FORWARD'] = metrics.mean_squared_error(test_y,pred_y_forward)\n",
    "perf_mat.loc['MSE']['STEPWISE'] = metrics.mean_squared_error(test_y,pred_y_stepwise)\n",
    "\n",
    "perf_mat.loc['RMSE']['FORWARD'] = np.sqrt(metrics.mean_squared_error(test_y, pred_y_forward))\n",
    "perf_mat.loc['RMSE']['STEPWISE'] = np.sqrt(metrics.mean_squared_error(test_y, pred_y_stepwise))\n",
    "\n",
    "perf_mat.loc['MAE']['FORWARD'] = metrics.mean_absolute_error(test_y, pred_y_forward)\n",
    "perf_mat.loc['MAE']['STEPWISE'] = metrics.mean_absolute_error(test_y, pred_y_stepwise)\n",
    "\n",
    "\n",
    "print(perf_mat)"
   ]
  },
  {
   "cell_type": "code",
   "execution_count": null,
   "metadata": {},
   "outputs": [],
   "source": []
  },
  {
   "cell_type": "code",
   "execution_count": null,
   "metadata": {},
   "outputs": [],
   "source": []
  },
  {
   "cell_type": "code",
   "execution_count": null,
   "metadata": {},
   "outputs": [],
   "source": []
  },
  {
   "cell_type": "code",
   "execution_count": null,
   "metadata": {},
   "outputs": [],
   "source": []
  }
 ],
 "metadata": {
  "kernelspec": {
   "display_name": "pydatavenv",
   "language": "python",
   "name": "pydatavenv"
  },
  "language_info": {
   "codemirror_mode": {
    "name": "ipython",
    "version": 3
   },
   "file_extension": ".py",
   "mimetype": "text/x-python",
   "name": "python",
   "nbconvert_exporter": "python",
   "pygments_lexer": "ipython3",
   "version": "3.7.9"
  }
 },
 "nbformat": 4,
 "nbformat_minor": 4
}
